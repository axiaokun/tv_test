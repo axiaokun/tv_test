{
 "cells": [
  {
   "cell_type": "code",
   "execution_count": 1,
   "metadata": {},
   "outputs": [],
   "source": [
    "from deal_data_pre.deal_model import *\n",
    "import pandas as pd\n",
    "import numpy as np\n",
    "import matplotlib.pyplot as plt\n",
    "from sklearn.datasets import load_breast_cancer\n",
    "from KNN.KNN import KNNClassifier"
   ]
  },
  {
   "cell_type": "code",
   "execution_count": 2,
   "metadata": {},
   "outputs": [
    {
     "data": {
      "text/plain": [
       "(array(['mean radius', 'mean texture', 'mean perimeter', 'mean area',\n",
       "        'mean smoothness', 'mean compactness', 'mean concavity',\n",
       "        'mean concave points', 'mean symmetry', 'mean fractal dimension',\n",
       "        'radius error', 'texture error', 'perimeter error', 'area error',\n",
       "        'smoothness error', 'compactness error', 'concavity error',\n",
       "        'concave points error', 'symmetry error',\n",
       "        'fractal dimension error', 'worst radius', 'worst texture',\n",
       "        'worst perimeter', 'worst area', 'worst smoothness',\n",
       "        'worst compactness', 'worst concavity', 'worst concave points',\n",
       "        'worst symmetry', 'worst fractal dimension'], dtype='<U23'),\n",
       " (569, 30),\n",
       " (569,))"
      ]
     },
     "execution_count": 2,
     "metadata": {},
     "output_type": "execute_result"
    }
   ],
   "source": [
    "data_breast_cancer = load_breast_cancer()  # 了解数据的一些基本信息\n",
    "data_breast_cancer.feature_names, data_breast_cancer.data.shape, data_breast_cancer.target.shape"
   ]
  },
  {
   "cell_type": "code",
   "execution_count": 3,
   "metadata": {},
   "outputs": [],
   "source": [
    "data_X, data_y = data_breast_cancer.data, data_breast_cancer.target  # 获取特征数据和样本标签"
   ]
  },
  {
   "cell_type": "markdown",
   "metadata": {},
   "source": [
    "# 归一化\n",
    "\n",
    "* 由于要使用的分类算法knn的度量方式使用了欧式距离，为了消除不同变量之间纲量的不同对数据造成的影响，这里主要使用到归一化或者标准化消除纲量\n",
    "\n",
    "* 对于归一化，使用的计算方法是：**（样本 - 最小值）/ （最大值 - 最小值）**。最大值和最小值容易受到异常值的影响\n",
    "\n",
    "* 对于标准化，使用的计算方法是：**（样本 - 平均值）/ 标准差**。同样也会受到异常值的影响，但同时也有两个好处：使得数据的均值为零，标准差为1.\n",
    "\n",
    "---\n",
    "\n",
    "* 对于两者间的选择：\n",
    "\n",
    "  1.如果要保留原来数据中标准差反映的潜在权重关系应该要选择归一化\n",
    "  \n",
    "  2.如果对于所有变量一视同仁，在计算距离时发挥相同的作用那么应该选择标准化。\n"
   ]
  },
  {
   "cell_type": "code",
   "execution_count": 4,
   "metadata": {},
   "outputs": [
    {
     "data": {
      "text/plain": [
       "array([[0.52103744, 0.0226581 , 0.54598853, ..., 0.91202749, 0.59846245,\n",
       "        0.41886396],\n",
       "       [0.64314449, 0.27257355, 0.61578329, ..., 0.63917526, 0.23358959,\n",
       "        0.22287813],\n",
       "       [0.60149557, 0.3902604 , 0.59574321, ..., 0.83505155, 0.40370589,\n",
       "        0.21343303],\n",
       "       ...,\n",
       "       [0.45525108, 0.62123774, 0.44578813, ..., 0.48728522, 0.12872068,\n",
       "        0.1519087 ],\n",
       "       [0.64456434, 0.66351031, 0.66553797, ..., 0.91065292, 0.49714173,\n",
       "        0.45231536],\n",
       "       [0.03686876, 0.50152181, 0.02853984, ..., 0.        , 0.25744136,\n",
       "        0.10068215]])"
      ]
     },
     "execution_count": 4,
     "metadata": {},
     "output_type": "execute_result"
    }
   ],
   "source": [
    "data_X = normalization(data_X)  # 对数据进行归一化处理，避免一些数值较大的数据对预测结果造成较大的影响\n",
    "data_X"
   ]
  },
  {
   "cell_type": "markdown",
   "metadata": {},
   "source": [
    "# 留出法--划分数据\n",
    "\n",
    "使用留出法将数据集按照8:2划分为训练集和测试集"
   ]
  },
  {
   "cell_type": "code",
   "execution_count": 5,
   "metadata": {},
   "outputs": [],
   "source": [
    "data_X = pd.DataFrame(data_X)  # 这边要先转化为DataFrame数据才可以传入到划分数据的函数中\n",
    "X_train, X_test, y_train, y_test = retention_method(data_X, data_y)\n",
    "X_train, X_test = X_train.values, X_test.values  # 将数据从新转化为array"
   ]
  },
  {
   "cell_type": "markdown",
   "metadata": {},
   "source": [
    "# 创建算法模型，训练预测"
   ]
  },
  {
   "cell_type": "code",
   "execution_count": 6,
   "metadata": {},
   "outputs": [],
   "source": [
    "kncf_model = KNNClassifier(5)\n",
    "kncf_model.fit(X_train, y_train)\n",
    "result = kncf_model.predict(X_test)"
   ]
  },
  {
   "cell_type": "markdown",
   "metadata": {},
   "source": [
    "# 计算准确率"
   ]
  },
  {
   "cell_type": "code",
   "execution_count": 7,
   "metadata": {},
   "outputs": [
    {
     "name": "stdout",
     "output_type": "stream",
     "text": [
      "0.9912280701754386\n",
      "\n",
      "sklearn中计算的准确率：\n",
      "0.9912280701754386\n"
     ]
    }
   ],
   "source": [
    "accuracy = accuracy_sco(y_test,np.array(result))\n",
    "print(accuracy) \n",
    "\n",
    "\n",
    "from sklearn.metrics import accuracy_score\n",
    "print('\\nsklearn中计算的准确率：')\n",
    "print(accuracy_score(y_test, np.array(result)))"
   ]
  },
  {
   "cell_type": "markdown",
   "metadata": {},
   "source": [
    "# 计算AUC"
   ]
  },
  {
   "cell_type": "code",
   "execution_count": 8,
   "metadata": {},
   "outputs": [
    {
     "name": "stdout",
     "output_type": "stream",
     "text": [
      "0.9871794871794872\n",
      "\n",
      "sklearn中计算的AUC：\n",
      "0.9871794871794871\n"
     ]
    }
   ],
   "source": [
    "auc_score = calculation_auc(y_test, np.array(result))\n",
    "print(auc_score)\n",
    "\n",
    "from sklearn.metrics import roc_auc_score\n",
    "print('\\nsklearn中计算的AUC：')\n",
    "print(roc_auc_score(y_test, np.array(result)))"
   ]
  },
  {
   "cell_type": "markdown",
   "metadata": {},
   "source": [
    "# 绘制散点图\n",
    "\n",
    "这里使用plt.scatter绘制散点图，并给不同的两类数据弄上不同的标志"
   ]
  },
  {
   "cell_type": "code",
   "execution_count": 9,
   "metadata": {},
   "outputs": [
    {
     "data": {
      "text/plain": [
       "<matplotlib.collections.PathCollection at 0x1dde7430>"
      ]
     },
     "execution_count": 9,
     "metadata": {},
     "output_type": "execute_result"
    },
    {
     "data": {
      "image/png": "[encoded data removed]",
      "text/plain": [
       "<Figure size 720x720 with 1 Axes>"
      ]
     },
     "metadata": {
      "needs_background": "light"
     },
     "output_type": "display_data"
    }
   ],
   "source": [
    "%matplotlib inline\n",
    "plt.figure(figsize=(10, 10))\n",
    "index_true, index_false = (data_y == 1), (data_y == 0)  # 查找正类负类，对应位置转变为bool\n",
    "plt.scatter(data_X.values[:, 0][index_true], data_X.values[:, 1][index_true], color='b', marker='+')\n",
    "plt.scatter(data_X.values[:, 0][index_false], data_X.values[:, 1][index_false], color='r', marker='o')"
   ]
  },
  {
   "cell_type": "code",
   "execution_count": null,
   "metadata": {},
   "outputs": [],
   "source": []
  }
 ],
 "metadata": {
  "kernelspec": {
   "display_name": "Python 3",
   "language": "python",
   "name": "python3"
  },
  "language_info": {
   "codemirror_mode": {
    "name": "ipython",
    "version": 3
   },
   "file_extension": ".py",
   "mimetype": "text/x-python",
   "name": "python",
   "nbconvert_exporter": "python",
   "pygments_lexer": "ipython3",
   "version": "3.7.3"
  }
 },
 "nbformat": 4,
 "nbformat_minor": 4
}
