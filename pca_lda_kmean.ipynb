{
 "cells": [
  {
   "cell_type": "code",
   "execution_count": 1,
   "metadata": {},
   "outputs": [],
   "source": [
    "from deal_data_pre.deal_model import *\n",
    "import pandas as pd\n",
    "import numpy as np\n",
    "import matplotlib.pyplot as plt\n",
    "from sklearn.datasets import load_iris\n",
    "from LDAandPCA.my_LDA import my_lda\n",
    "from LDAandPCA.my_PCA import my_PCA\n",
    "from K_mean.K_mean_simple import Kmean_simple"
   ]
  },
  {
   "cell_type": "code",
   "execution_count": 2,
   "metadata": {},
   "outputs": [],
   "source": [
    "data = load_iris()\n",
    "X, y = data.data, data.target"
   ]
  },
  {
   "cell_type": "markdown",
   "metadata": {},
   "source": [
    "# 使用LDA\n",
    "* lda是一种监督学习的降维技术，原理是将数据投影在低维度的平面上，使得相同类别的投影点尽可能接近，不同类别的类别中心之间的距离尽可能大\n",
    "\n",
    "* 这里使用iris数据集作为例子，lda作用的两类对象为标签为0和标签为非0的数据\n",
    "\n",
    "* 使用函数计算出来的w与数据做矩阵相乘得出映射到低纬度的数据（这里是一维）\n",
    "\n",
    "* 绘制图像，可以看出数据明显被划分两个区域，实际是下面非0区域包含两种类别好像区分也挺明显的"
   ]
  },
  {
   "cell_type": "code",
   "execution_count": 3,
   "metadata": {},
   "outputs": [
    {
     "data": {
      "text/plain": [
       "<matplotlib.collections.PathCollection at 0x1d16d810>"
      ]
     },
     "execution_count": 3,
     "metadata": {},
     "output_type": "execute_result"
    },
    {
     "data": {
      "image/png": "[encoded data removed]",
      "text/plain": [
       "<Figure size 432x288 with 1 Axes>"
      ]
     },
     "metadata": {
      "needs_background": "light"
     },
     "output_type": "display_data"
    }
   ],
   "source": [
    "w = my_lda(X, y)\n",
    "lda_data = w.dot(X.T)\n",
    "sample = X.shape[0]\n",
    "list_x = [i for i in range(sample)]\n",
    "plt.scatter(list_x, lda_data, marker='+', color='g')"
   ]
  },
  {
   "cell_type": "markdown",
   "metadata": {},
   "source": [
    "# 使用kmean对降维后的数据进行聚类"
   ]
  },
  {
   "cell_type": "code",
   "execution_count": 4,
   "metadata": {},
   "outputs": [],
   "source": [
    "mp = my_PCA(2)\n",
    "pca_X = mp.pca(X)"
   ]
  },
  {
   "cell_type": "code",
   "execution_count": 5,
   "metadata": {},
   "outputs": [
    {
     "data": {
      "text/plain": [
       "array([1., 1., 1., 1., 1., 1., 1., 1., 1., 1., 1., 1., 1., 1., 1., 1., 1.,\n",
       "       1., 1., 1., 1., 1., 1., 1., 1., 1., 1., 1., 1., 1., 1., 1., 1., 1.,\n",
       "       1., 1., 1., 1., 1., 1., 1., 1., 1., 1., 1., 1., 1., 1., 1., 1., 0.,\n",
       "       2., 0., 2., 2., 2., 2., 2., 2., 2., 2., 2., 2., 2., 2., 2., 2., 2.,\n",
       "       2., 2., 2., 2., 2., 2., 2., 2., 2., 0., 2., 2., 2., 2., 2., 2., 2.,\n",
       "       2., 2., 2., 2., 2., 2., 2., 2., 2., 2., 2., 2., 2., 2., 2., 0., 2.,\n",
       "       0., 0., 0., 0., 2., 0., 0., 0., 0., 0., 0., 2., 2., 0., 0., 0., 0.,\n",
       "       2., 0., 2., 0., 2., 0., 0., 2., 2., 0., 0., 0., 0., 0., 2., 0., 0.,\n",
       "       0., 0., 2., 0., 0., 0., 2., 0., 0., 0., 2., 0., 0., 2.])"
      ]
     },
     "execution_count": 5,
     "metadata": {},
     "output_type": "execute_result"
    }
   ],
   "source": [
    "KMean = Kmean_simple(k=3)\n",
    "result = KMean.predict(X)\n",
    "result"
   ]
  },
  {
   "cell_type": "markdown",
   "metadata": {},
   "source": [
    "# 对图片进行降维\n",
    "\n",
    "* pca可以用于图片压缩，使得图片保留主要成分的同时可以变得更小\n",
    "\n",
    "* 这里使用sklearn中缩小版的手写体数据集，由于使用的数据集绘制出的图形本身高糊，所以降维后的图片惨不忍睹\n",
    "\n",
    "* 这里注意**降维时的维度一定要是n * n的形式，方便绘制图片**"
   ]
  },
  {
   "cell_type": "code",
   "execution_count": 8,
   "metadata": {},
   "outputs": [
    {
     "data": {
      "image/png": "[encoded data removed]",
      "text/plain": [
       "<Figure size 432x288 with 1 Axes>"
      ]
     },
     "metadata": {
      "needs_background": "light"
     },
     "output_type": "display_data"
    }
   ],
   "source": [
    "from sklearn.datasets import load_digits\n",
    "import matplotlib.pyplot as plt # 画图工具\n",
    "%matplotlib inline\n",
    "digits = load_digits()\n",
    "data=digits.data\n",
    "some_digit = data[160]\n",
    "some_digit_image = some_digit.reshape(8, 8)\n",
    "plt.imshow(some_digit_image, interpolation=\"nearest\")\n",
    "plt.axis(\"off\")\n",
    "plt.show()"
   ]
  },
  {
   "cell_type": "code",
   "execution_count": 9,
   "metadata": {},
   "outputs": [
    {
     "data": {
      "image/png": "[encoded data removed]",
      "text/plain": [
       "<Figure size 432x288 with 1 Axes>"
      ]
     },
     "metadata": {
      "needs_background": "light"
     },
     "output_type": "display_data"
    }
   ],
   "source": [
    "mp = my_PCA(49)\n",
    "X = mp.pca(data)\n",
    "some_digit = X[160]\n",
    "some_digit_image = some_digit.reshape(7, 7)\n",
    "plt.imshow(some_digit_image, interpolation=\"nearest\")\n",
    "plt.axis(\"off\")\n",
    "plt.show()"
   ]
  },
  {
   "cell_type": "code",
   "execution_count": null,
   "metadata": {},
   "outputs": [],
   "source": []
  }
 ],
 "metadata": {
  "kernelspec": {
   "display_name": "Python 3",
   "language": "python",
   "name": "python3"
  },
  "language_info": {
   "codemirror_mode": {
    "name": "ipython",
    "version": 3
   },
   "file_extension": ".py",
   "mimetype": "text/x-python",
   "name": "python",
   "nbconvert_exporter": "python",
   "pygments_lexer": "ipython3",
   "version": "3.7.3"
  }
 },
 "nbformat": 4,
 "nbformat_minor": 4
}
